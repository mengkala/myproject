{
  "nbformat": 4,
  "nbformat_minor": 0,
  "metadata": {
    "colab": {
      "provenance": []
    },
    "kernelspec": {
      "name": "python3",
      "display_name": "Python 3"
    },
    "language_info": {
      "name": "python"
    }
  },
  "cells": [
    {
      "cell_type": "code",
      "execution_count": 2,
      "metadata": {
        "id": "l63TV2sioBP-"
      },
      "outputs": [],
      "source": [
        "import pandas as pd"
      ]
    },
    {
      "cell_type": "code",
      "source": [
        "new_customer_list = pd.read_excel('KPMG_VI_New_raw_data_update_final.xlsx','NewCustomerList',skiprows=1)\n",
        "customer_demographic = pd.read_excel('KPMG_VI_New_raw_data_update_final.xlsx','CustomerDemographic')\n",
        "customer_address = pd.read_excel('KPMG_VI_New_raw_data_update_final.xlsx','CustomerAddress',skiprows=1)"
      ],
      "metadata": {
        "id": "tp-emS_coUnC"
      },
      "execution_count": 18,
      "outputs": []
    },
    {
      "cell_type": "code",
      "source": [
        "customer_demographic.info()"
      ],
      "metadata": {
        "colab": {
          "base_uri": "https://localhost:8080/"
        },
        "id": "t-JosgmRo-H5",
        "outputId": "24ae32e0-3445-43ce-a207-14035e04acc6"
      },
      "execution_count": 21,
      "outputs": [
        {
          "output_type": "stream",
          "name": "stdout",
          "text": [
            "<class 'pandas.core.frame.DataFrame'>\n",
            "RangeIndex: 4000 entries, 0 to 3999\n",
            "Data columns (total 12 columns):\n",
            " #   Column                               Non-Null Count  Dtype  \n",
            "---  ------                               --------------  -----  \n",
            " 0   customer_id                          4000 non-null   int64  \n",
            " 1   name                                 4000 non-null   object \n",
            " 2   gender                               4000 non-null   object \n",
            " 3   past_3_years_bike_related_purchases  4000 non-null   int64  \n",
            " 4   DOB                                  3913 non-null   object \n",
            " 5   age                                  3999 non-null   float64\n",
            " 6   job_title                            3494 non-null   object \n",
            " 7   job_industry_category                3344 non-null   object \n",
            " 8   wealth_segment                       4000 non-null   object \n",
            " 9   deceased_indicator                   4000 non-null   object \n",
            " 10  owns_car                             4000 non-null   object \n",
            " 11  tenure                               3913 non-null   float64\n",
            "dtypes: float64(2), int64(2), object(8)\n",
            "memory usage: 375.1+ KB\n"
          ]
        }
      ]
    },
    {
      "cell_type": "code",
      "source": [
        "customer_demographic['customer_id'].is_unique"
      ],
      "metadata": {
        "colab": {
          "base_uri": "https://localhost:8080/"
        },
        "id": "W6ZG_f5orB6X",
        "outputId": "568b9dab-6830-477e-bf10-b2552aa5882a"
      },
      "execution_count": 24,
      "outputs": [
        {
          "output_type": "execute_result",
          "data": {
            "text/plain": [
              "True"
            ]
          },
          "metadata": {},
          "execution_count": 24
        }
      ]
    },
    {
      "cell_type": "code",
      "source": [
        "customer_address.info()"
      ],
      "metadata": {
        "colab": {
          "base_uri": "https://localhost:8080/"
        },
        "id": "TnIjwHGlqUXs",
        "outputId": "3c5c508b-3a03-451f-c606-3214250816f7"
      },
      "execution_count": 20,
      "outputs": [
        {
          "output_type": "stream",
          "name": "stdout",
          "text": [
            "<class 'pandas.core.frame.DataFrame'>\n",
            "RangeIndex: 3999 entries, 0 to 3998\n",
            "Data columns (total 6 columns):\n",
            " #   Column              Non-Null Count  Dtype \n",
            "---  ------              --------------  ----- \n",
            " 0   customer_id         3999 non-null   int64 \n",
            " 1   address             3999 non-null   object\n",
            " 2   postcode            3999 non-null   int64 \n",
            " 3   state               3999 non-null   object\n",
            " 4   country             3999 non-null   object\n",
            " 5   property_valuation  3999 non-null   int64 \n",
            "dtypes: int64(3), object(3)\n",
            "memory usage: 187.6+ KB\n"
          ]
        }
      ]
    },
    {
      "cell_type": "code",
      "source": [
        "merged_data1 = pd.merge(customer_demographic,customer_address,on = 'customer_id',how = 'left')"
      ],
      "metadata": {
        "id": "CwqhbUUlpEPs"
      },
      "execution_count": 26,
      "outputs": []
    },
    {
      "cell_type": "code",
      "source": [
        "merged_data1.info()"
      ],
      "metadata": {
        "colab": {
          "base_uri": "https://localhost:8080/"
        },
        "id": "Qv0vbZwNrRfh",
        "outputId": "ff0b1ea1-95ff-4b3d-a3f6-0564210d9b27"
      },
      "execution_count": 28,
      "outputs": [
        {
          "output_type": "stream",
          "name": "stdout",
          "text": [
            "<class 'pandas.core.frame.DataFrame'>\n",
            "RangeIndex: 4000 entries, 0 to 3999\n",
            "Data columns (total 17 columns):\n",
            " #   Column                               Non-Null Count  Dtype  \n",
            "---  ------                               --------------  -----  \n",
            " 0   customer_id                          4000 non-null   int64  \n",
            " 1   name                                 4000 non-null   object \n",
            " 2   gender                               4000 non-null   object \n",
            " 3   past_3_years_bike_related_purchases  4000 non-null   int64  \n",
            " 4   DOB                                  3913 non-null   object \n",
            " 5   age                                  3999 non-null   float64\n",
            " 6   job_title                            3494 non-null   object \n",
            " 7   job_industry_category                3344 non-null   object \n",
            " 8   wealth_segment                       4000 non-null   object \n",
            " 9   deceased_indicator                   4000 non-null   object \n",
            " 10  owns_car                             4000 non-null   object \n",
            " 11  tenure                               3913 non-null   float64\n",
            " 12  address                              3996 non-null   object \n",
            " 13  postcode                             3996 non-null   float64\n",
            " 14  state                                3996 non-null   object \n",
            " 15  country                              3996 non-null   object \n",
            " 16  property_valuation                   3996 non-null   float64\n",
            "dtypes: float64(4), int64(2), object(11)\n",
            "memory usage: 531.4+ KB\n"
          ]
        }
      ]
    },
    {
      "cell_type": "code",
      "source": [
        "new_customer_list.info()"
      ],
      "metadata": {
        "colab": {
          "base_uri": "https://localhost:8080/"
        },
        "id": "Sk3umZFWrXpr",
        "outputId": "9c8dcf11-3a07-46cf-9fe4-eefd374251f8"
      },
      "execution_count": 29,
      "outputs": [
        {
          "output_type": "stream",
          "name": "stdout",
          "text": [
            "<class 'pandas.core.frame.DataFrame'>\n",
            "RangeIndex: 1000 entries, 0 to 999\n",
            "Data columns (total 23 columns):\n",
            " #   Column                               Non-Null Count  Dtype  \n",
            "---  ------                               --------------  -----  \n",
            " 0   first_name                           1000 non-null   object \n",
            " 1   last_name                            971 non-null    object \n",
            " 2   gender                               1000 non-null   object \n",
            " 3   past_3_years_bike_related_purchases  1000 non-null   int64  \n",
            " 4   DOB                                  983 non-null    object \n",
            " 5   job_title                            894 non-null    object \n",
            " 6   job_industry_category                835 non-null    object \n",
            " 7   wealth_segment                       1000 non-null   object \n",
            " 8   deceased_indicator                   1000 non-null   object \n",
            " 9   owns_car                             1000 non-null   object \n",
            " 10  tenure                               1000 non-null   int64  \n",
            " 11  address                              1000 non-null   object \n",
            " 12  postcode                             1000 non-null   int64  \n",
            " 13  state                                1000 non-null   object \n",
            " 14  country                              1000 non-null   object \n",
            " 15  property_valuation                   1000 non-null   int64  \n",
            " 16  Unnamed: 16                          1000 non-null   float64\n",
            " 17  Unnamed: 17                          1000 non-null   float64\n",
            " 18  Unnamed: 18                          1000 non-null   float64\n",
            " 19  Unnamed: 19                          1000 non-null   float64\n",
            " 20  Unnamed: 20                          1000 non-null   int64  \n",
            " 21  Rank                                 1000 non-null   int64  \n",
            " 22  Value                                1000 non-null   float64\n",
            "dtypes: float64(5), int64(6), object(12)\n",
            "memory usage: 179.8+ KB\n"
          ]
        }
      ]
    },
    {
      "cell_type": "code",
      "source": [
        "new_customer_list['job_title'].is_unique"
      ],
      "metadata": {
        "colab": {
          "base_uri": "https://localhost:8080/"
        },
        "id": "I7GrO2H1riAD",
        "outputId": "97f53cec-cd0e-4be5-de77-5140901b049c"
      },
      "execution_count": 31,
      "outputs": [
        {
          "output_type": "execute_result",
          "data": {
            "text/plain": [
              "False"
            ]
          },
          "metadata": {},
          "execution_count": 31
        }
      ]
    },
    {
      "cell_type": "code",
      "source": [
        "new_customer_list['name'] = new_customer_list['first_name'] + ' ' + new_customer_list['last_name']"
      ],
      "metadata": {
        "id": "v32mFEtor3jz"
      },
      "execution_count": 35,
      "outputs": []
    },
    {
      "cell_type": "code",
      "source": [
        "new_customer_list.info()"
      ],
      "metadata": {
        "colab": {
          "base_uri": "https://localhost:8080/"
        },
        "id": "5qaE3ou_s_ir",
        "outputId": "c07df69c-e15b-4e66-ea8f-9d462c088dde"
      },
      "execution_count": 36,
      "outputs": [
        {
          "output_type": "stream",
          "name": "stdout",
          "text": [
            "<class 'pandas.core.frame.DataFrame'>\n",
            "RangeIndex: 1000 entries, 0 to 999\n",
            "Data columns (total 25 columns):\n",
            " #   Column                               Non-Null Count  Dtype  \n",
            "---  ------                               --------------  -----  \n",
            " 0   first_name                           1000 non-null   object \n",
            " 1   last_name                            971 non-null    object \n",
            " 2   gender                               1000 non-null   object \n",
            " 3   past_3_years_bike_related_purchases  1000 non-null   int64  \n",
            " 4   DOB                                  983 non-null    object \n",
            " 5   job_title                            894 non-null    object \n",
            " 6   job_industry_category                835 non-null    object \n",
            " 7   wealth_segment                       1000 non-null   object \n",
            " 8   deceased_indicator                   1000 non-null   object \n",
            " 9   owns_car                             1000 non-null   object \n",
            " 10  tenure                               1000 non-null   int64  \n",
            " 11  address                              1000 non-null   object \n",
            " 12  postcode                             1000 non-null   int64  \n",
            " 13  state                                1000 non-null   object \n",
            " 14  country                              1000 non-null   object \n",
            " 15  property_valuation                   1000 non-null   int64  \n",
            " 16  Unnamed: 16                          1000 non-null   float64\n",
            " 17  Unnamed: 17                          1000 non-null   float64\n",
            " 18  Unnamed: 18                          1000 non-null   float64\n",
            " 19  Unnamed: 19                          1000 non-null   float64\n",
            " 20  Unnamed: 20                          1000 non-null   int64  \n",
            " 21  Rank                                 1000 non-null   int64  \n",
            " 22  Value                                1000 non-null   float64\n",
            " 23  dob_job_title_combined               894 non-null    object \n",
            " 24  name                                 971 non-null    object \n",
            "dtypes: float64(5), int64(6), object(14)\n",
            "memory usage: 195.4+ KB\n"
          ]
        }
      ]
    },
    {
      "cell_type": "code",
      "source": [
        "merged_data2 = pd.merge(merged_data1,new_customer_list,on = 'name',how = 'outer')"
      ],
      "metadata": {
        "id": "g74xCxAlsQys"
      },
      "execution_count": 41,
      "outputs": []
    },
    {
      "cell_type": "code",
      "source": [
        "merged_data2.info()"
      ],
      "metadata": {
        "colab": {
          "base_uri": "https://localhost:8080/"
        },
        "id": "Cc5r7nhttfMq",
        "outputId": "2f2486aa-151c-49ea-8fd9-468b87347e57"
      },
      "execution_count": 42,
      "outputs": [
        {
          "output_type": "stream",
          "name": "stdout",
          "text": [
            "<class 'pandas.core.frame.DataFrame'>\n",
            "RangeIndex: 5000 entries, 0 to 4999\n",
            "Data columns (total 41 columns):\n",
            " #   Column                                 Non-Null Count  Dtype  \n",
            "---  ------                                 --------------  -----  \n",
            " 0   customer_id                            4000 non-null   float64\n",
            " 1   name                                   4971 non-null   object \n",
            " 2   gender_x                               4000 non-null   object \n",
            " 3   past_3_years_bike_related_purchases_x  4000 non-null   float64\n",
            " 4   DOB_x                                  3913 non-null   object \n",
            " 5   age                                    3999 non-null   float64\n",
            " 6   job_title_x                            3494 non-null   object \n",
            " 7   job_industry_category_x                3344 non-null   object \n",
            " 8   wealth_segment_x                       4000 non-null   object \n",
            " 9   deceased_indicator_x                   4000 non-null   object \n",
            " 10  owns_car_x                             4000 non-null   object \n",
            " 11  tenure_x                               3913 non-null   float64\n",
            " 12  address_x                              3996 non-null   object \n",
            " 13  postcode_x                             3996 non-null   float64\n",
            " 14  state_x                                3996 non-null   object \n",
            " 15  country_x                              3996 non-null   object \n",
            " 16  property_valuation_x                   3996 non-null   float64\n",
            " 17  first_name                             1000 non-null   object \n",
            " 18  last_name                              971 non-null    object \n",
            " 19  gender_y                               1000 non-null   object \n",
            " 20  past_3_years_bike_related_purchases_y  1000 non-null   float64\n",
            " 21  DOB_y                                  983 non-null    object \n",
            " 22  job_title_y                            894 non-null    object \n",
            " 23  job_industry_category_y                835 non-null    object \n",
            " 24  wealth_segment_y                       1000 non-null   object \n",
            " 25  deceased_indicator_y                   1000 non-null   object \n",
            " 26  owns_car_y                             1000 non-null   object \n",
            " 27  tenure_y                               1000 non-null   float64\n",
            " 28  address_y                              1000 non-null   object \n",
            " 29  postcode_y                             1000 non-null   float64\n",
            " 30  state_y                                1000 non-null   object \n",
            " 31  country_y                              1000 non-null   object \n",
            " 32  property_valuation_y                   1000 non-null   float64\n",
            " 33  Unnamed: 16                            1000 non-null   float64\n",
            " 34  Unnamed: 17                            1000 non-null   float64\n",
            " 35  Unnamed: 18                            1000 non-null   float64\n",
            " 36  Unnamed: 19                            1000 non-null   float64\n",
            " 37  Unnamed: 20                            1000 non-null   float64\n",
            " 38  Rank                                   1000 non-null   float64\n",
            " 39  Value                                  1000 non-null   float64\n",
            " 40  dob_job_title_combined                 894 non-null    object \n",
            "dtypes: float64(17), object(24)\n",
            "memory usage: 1.6+ MB\n"
          ]
        }
      ]
    },
    {
      "cell_type": "code",
      "source": [],
      "metadata": {
        "colab": {
          "base_uri": "https://localhost:8080/"
        },
        "id": "KgZKHIANsX9U",
        "outputId": "584dfdee-2c25-4baa-a34d-dd4e4e1effef"
      },
      "execution_count": 34,
      "outputs": [
        {
          "output_type": "execute_result",
          "data": {
            "text/plain": [
              "False"
            ]
          },
          "metadata": {},
          "execution_count": 34
        }
      ]
    }
  ]
}